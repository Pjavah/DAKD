{
 "cells": [
  {
   "cell_type": "markdown",
   "metadata": {},
   "source": [
    "<div class=\"alert alert-block alert-warning\">\n",
    "    <h1><center> DAKD 2022 EXERCISE 1: DATA UNDERSTANDING  </center></h1>"
   ]
  },
  {
   "cell_type": "markdown",
   "metadata": {},
   "source": [
    "This exercise relates to the _data understanding_ and  _data preparation_ stages of the Crisp Data Mining (CRISP-DM) model presented on the course. The questions at this stage of a data-analysis project are for example: \n",
    "\n",
    "- Is the data quality sufficient?\n",
    "- How can we check the data for problems?\n",
    "- How do we have to clean the data?\n",
    "- How is the data best transformed for modeling?\n",
    "\n",
    "It may be tempting to just run a model on data without checking it. However, not doing basic checks can ruin your whole analysis and make your results invalid as well as mislead you in further analyses. There is no excuse for not plotting and checking that the data is as we expect and clean. In this exercise we do just that, check the validity of data and familiarize ourselves with a dataset, also discussing preprocessing and multi-dimensional plotting. \n",
    " \n",
    "------------"
   ]
  },
  {
   "cell_type": "markdown",
   "metadata": {},
   "source": [
    "### <font color = red> *** FILL YOUR INFORMATION BELOW *** </font>\n",
    "Patrik Vahala <br>\n",
    "515733 <br>\n",
    "pjavah@utu.fi  <br>\n",
    "8.11.2022  <br>"
   ]
  },
  {
   "cell_type": "markdown",
   "metadata": {
    "id": "W3jIT0S_3BPb"
   },
   "source": [
    "\n",
    "#### General guidance for exercises \n",
    "\n",
    "-  You can add more code and markup cells, as long as the flow of the notebook stays readable and logical.\n",
    "- Answer **all** questions (except the bonus if you do not want to attempt it), even if you can't get your script to fully work\n",
    "- Write clear and easily readable code, include explanations of what your code does\n",
    "- Make informative illustrations: include labels for x and y axes, legends and captions for your plots\n",
    "- Before saving the ipynb file (and possible printing) run: \"Restart & Run all\", to make sure you return a file that works as expected.\n",
    "- Grading: *Fail*/*Pass*/*Pass with honors* (+1)\n",
    "- If you encounter problems, Google first. If you can't find an answer to the problem, don't hesitate to ask in the Moodle discussion or directly via moodle chat.\n",
    "- Don't leave it to the last moment! No feedback service during weekends."
   ]
  },
  {
   "cell_type": "markdown",
   "metadata": {
    "id": "2I2WLapM3BPc"
   },
   "source": [
    "### <font color = red> Packages needed for this exercise: </font>\n",
    "- The exercise can be done without importing any extra packages, but you can import new ones but bear in mind that if you are importing many new packages, you may be complicating your answer. "
   ]
  },
  {
   "cell_type": "code",
   "execution_count": 1,
   "metadata": {
    "id": "kNsRA1WF3BPc"
   },
   "outputs": [],
   "source": [
    "# --- Libraries with a short description ---\n",
    "import pandas as pd # for data manipulation\n",
    "import matplotlib.pyplot as plt # for plotting\n",
    "import numpy as np #for numeric calculations and making simulated data.\n",
    "import seaborn as sns # for plotting, an extension on matplotlib \n",
    "\n",
    "# - sklearn has many data analysis utility functions like scaling as well as a large variety of modeling tools.\n",
    "from sklearn.decomposition import PCA \n",
    "from sklearn.preprocessing import StandardScaler\n",
    "from sklearn.preprocessing import minmax_scale\n",
    "from sklearn.preprocessing import scale\n",
    "from sklearn.manifold import TSNE\n",
    "\n",
    "# This forces plots to be shown inline in the notebook\n",
    "%matplotlib inline"
   ]
  },
  {
   "cell_type": "markdown",
   "metadata": {},
   "source": [
    "\n",
    "<div class=\"alert alert-block alert-warning\">\n",
    "    <h1><center> PLOTTING TUTORIAL </center></h1>"
   ]
  },
  {
   "cell_type": "markdown",
   "metadata": {},
   "source": [
    "This small explanation of the matplotlib package aims to avoid confusion and help you avoid common mistakes and frustration. Matplotlib is an object-oriented plotting package with the benefit of giving the user a lot of control. The downside is that it can be confusing to new users. **If you are having problems with the plotting exercises, return to this tutorial as it explains the needed concepts to do the exercises!**\n",
    "\n",
    "-----------"
   ]
  },
  {
   "cell_type": "markdown",
   "metadata": {},
   "source": [
    "###  Figure and axes \n",
    "\n",
    "\n",
    "All plots in matplotlib are structured with the **<font color = dimgrey> figure </font>** and **<font color = blue> axes </font>** objects. \n",
    "\n",
    "- The **<font color = dimgrey> figure </font>** object is a container for all plotting elements (in other words, everything we see).  \n",
    "- A figure can have many **<font color = blue> axes </font>**. They are the objects you plot on to. The axes can be anywhere inside the figure and can even overlap. Position of axes is defined relative to the figure. \n",
    "\n",
    "The **<font color = blue> axes </font>** objects have the methods you will use to define most of your plots. For example axes.hist() is used to draw a histogram and axes.set_title() to give one axes a title. The name of the object can be a bit confusing as it does not refer to the axes in the way \"x-axis\" does but to the container of a single plot.\n",
    "\n",
    "\n",
    "--------------\n",
    "     \n",
    "- Below is an example that illustrates how **<font color = dimgrey> figures </font>**and **<font color = blue> axes </font>** work together in matplotlib. The comments explain what is done in every row of code. <font color = green> You are encouraged to play around with it, but its not required in terms of the exercise </font>. Below, we will create all figures and axes separately, but later on we will use a quicker way to do so. \n",
    "\n",
    " This is not yet a part of the exercises themselves and you do not need to change anything ! "
   ]
  },
  {
   "cell_type": "code",
   "execution_count": 2,
   "metadata": {},
   "outputs": [],
   "source": [
    "#  --- Lets make some example data. ---\n",
    "x_example_data = np.linspace(0,5,10)\n",
    "y_example_data = x_example_data**2"
   ]
  },
  {
   "cell_type": "code",
   "execution_count": 3,
   "metadata": {
    "scrolled": true
   },
   "outputs": [
    {
     "data": {
      "text/plain": [
       "Text(3, 5, 'This is a text object relative to the inner axes')"
      ]
     },
     "execution_count": 3,
     "metadata": {},
     "output_type": "execute_result"
    },
    {
     "data": {
      "image/png": "[encoded data removed]",
      "text/plain": [
       "<Figure size 360x360 with 2 Axes>"
      ]
     },
     "metadata": {
      "needs_background": "light"
     },
     "output_type": "display_data"
    }
   ],
   "source": [
    "### Create a figure ###\n",
    "example_figure = plt.figure(figsize =(5,5)) #you give the size of the figure as a tuple of inches\n",
    "\n",
    "### Create an axes separately and add it to the figure ###\n",
    "example_axes_outer = example_figure.add_axes([0.1, 0.1, 0.9, 0.9]) #the argument gives the relative location of the axes in percentage from the corners of the figure. The order is left, bottom, right, top. \n",
    "\n",
    "### Set labels and titles to the axes ###\n",
    "example_axes_outer.set_xlabel(\"This is how you set an x-axis label to an axes\")\n",
    "example_axes_outer.set_ylabel(\"The y-label of an axes is set like this\")\n",
    "example_axes_outer.set_title(\"We learned how to give an axes a title!\")\n",
    "example_axes_inner = example_figure.add_axes([0.45, 0.45, 0.4, 0.3])\n",
    "example_axes_inner.set_title(\"This axes has a title too\")\n",
    "\n",
    "### Add something to the axes ###\n",
    "example_axes_inner.scatter(x_example_data, y_example_data)\n",
    "\n",
    "# Multiple things, like lines can be plotted on same axis. \n",
    "example_axes_outer.plot(x_example_data**4, y_example_data**2)\n",
    "example_axes_outer.plot(x_example_data**7, y_example_data**2)\n",
    "\n",
    "# If you want to add other objects, you add them to axes too, like text\n",
    "# Now you specify the location relative to the parent axes\n",
    "example_axes_inner.text(3, 5, \"This is a text object relative to the inner axes\")\n",
    "\n",
    "#Many more things can be added to axes in a similar way, not just text. \n",
    "#For more information there are many good tutorials available for example in youtube. "
   ]
  },
  {
   "cell_type": "markdown",
   "metadata": {},
   "source": [
    "###  Subplots: creating multiple axes and placing them in a grid on the figure \n",
    "An established convention of using matplotlib is to start plotting by calling the **<font color = blue> plt.subplots </font>** function, which automatically creates a figure and a determined number of axes in a grid inside it and automatically links the axes to the figure. Even when creating just one axes this is a often used way to start making a plot.\n",
    "\n",
    "The most important arguments to **<font color = blue> plt.subplots </font>** are **nrows**, **ncols**, **figsize**, **sharex** and **sharey**\n",
    "- **nrows** controls how many subplots there will be in the grid by row, **ncol** controls the number of columns\n",
    "- **figsize** is a tuple e.g (1,5) which controls the size of the **<font color = dimgrey> figure </font>**, first is width and then height.\n",
    "- sharex (True, False) tells matplotlib whether all axes in the grid should have same x-axis scale and ticks, sharey does the same for all y.\n",
    "\n",
    "--------\n",
    "Below an example on creating subplots is presented. There is also a template-like example on how to fill the subplots in a loop using the  **enumerate** function of python for indexing into the subplots. The function **enumerate()** will give you an additional int indexer over the object you are looping over. This indexer can be used to loop over the different subplot elements like the axes for each of the subplots.\n",
    "\n",
    "**<font color = dimgrey> plt.tight_layout() </font>** is also a good command to know with subplots. It attempts to automatically arrange the different axes in a pretty way. It should be called after the plot is finished. "
   ]
  },
  {
   "cell_type": "code",
   "execution_count": 4,
   "metadata": {},
   "outputs": [],
   "source": [
    "# ----- Create some random data for the example, 3 continuous numeric features and 3 binary -----\n",
    "#dont worry about understanding the function, it creates lists and is shorthand for a for loop called list comprehension.\n",
    "numeric_datas = [np.random.rand(10,2) for _ in range(0,3)] #this creates list of lists of linear data, using list comprehension\n",
    "binary_datas = [(np.unique(np.random.randint(0, 2, size= 10), return_counts = True)[1]) for _ in range(0,3)] # create list of lists of samples of 0,1 like (co"
   ]
  },
  {
   "cell_type": "code",
   "execution_count": 5,
   "metadata": {},
   "outputs": [
    {
     "data": {
      "image/png": "[encoded data removed]",
      "text/plain": [
       "<Figure size 720x360 with 6 Axes>"
      ]
     },
     "metadata": {
      "needs_background": "light"
     },
     "output_type": "display_data"
    }
   ],
   "source": [
    "# Create figure with six axes in a 2*3 grid and set up titles --------------------------------------------------------\n",
    "fig, axes = plt.subplots(2,3, figsize = (10,5)) # now axes have indexes like axes[i, j]\n",
    "numeric_plot_titles = ['scatter_plot_1', 'a second plot', 'yet a third plot' ]#some titles for the different axes\n",
    "binary_plot_titles = ['coin_tosses1', 'tossing again', 'still tossing' ]#some titles for the different axes\n",
    "\n",
    "\n",
    "# Enumerate the index into the axes, fill the first 3 columns of first row with scatterplots of numeric_datas --------\n",
    "i = 0 # for indexing to the row of the axes [**i**, j]\n",
    "for j, numeric_data in enumerate(numeric_datas): # j = [0,1, ... n_datasets] for filling the columns, i stays constant as its the row\n",
    "    axes[i, j].scatter(x = numeric_data[:, 0], y = numeric_data[:, 1]) #plots are called on the axes\n",
    "    axes[i, j].set_title(numeric_plot_titles[j]) #set a title for each axes\n",
    "plt.tight_layout()\n",
    "\n",
    "\n",
    "# Plot the binary data -----------------------------------------------------------------------------------------------\n",
    "i = 1 # second row\n",
    "for j, binary_data in enumerate(binary_datas): # j = [0,1, ... n_datasets] for filling the columns, i stays constant as its the row\n",
    "    axes[i, j].bar(x = [\"0\",\"1\"], height = binary_data) #make a barplot\n",
    "    axes[i, j].set_title(binary_plot_titles[j]) #set a title for each axes\n",
    "    axes[i, j].set_ylim((0,10)) # set the yaxis limits, set_xlim works the same way.  \n",
    "\n",
    "fig.suptitle(\"fig.suptitle gives the figure a title and axes.set_title the axes\")\n",
    "plt.tight_layout()"
   ]
  },
  {
   "cell_type": "markdown",
   "metadata": {},
   "source": [
    "####  <font color = maroon> Seaborn and matplotlib </font>\n",
    "- Finally, it is good to know, that the popular Seaborn plotting library is based on matplotlib, and was designed to be an extension of it and to be more user-friendly and faster to use.  \n",
    "\n",
    "- One tip in particular that might help new users with seaborn is that two kinnds of plotting functions: for figure-level and axes-level plots. Axes level plots can be put into subplots like matplotlib plots as you saw in the example above whereas figure-level plots are done completely with seaborn. (For more information on this see https://seaborn.pydata.org/tutorial/function_overview.html)\n",
    "\n",
    "- For axes-level plots, the matplotlib-axes object is usually given to the seaborn plotting function as an argument. There is an example below."
   ]
  },
  {
   "cell_type": "code",
   "execution_count": 6,
   "metadata": {},
   "outputs": [
    {
     "data": {
      "text/plain": [
       "<AxesSubplot:ylabel='Count'>"
      ]
     },
     "execution_count": 6,
     "metadata": {},
     "output_type": "execute_result"
    },
    {
     "data": {
      "image/png": "[encoded data removed]",
      "text/plain": [
       "<Figure size 432x288 with 2 Axes>"
      ]
     },
     "metadata": {
      "needs_background": "light"
     },
     "output_type": "display_data"
    }
   ],
   "source": [
    "fig, axes = plt.subplots(2)\n",
    "\n",
    "# make some data \n",
    "random_data_a = np.random.rand(30)\n",
    "random_data_b = np.random.rand(100)\n",
    "\n",
    "# print the data we are plotting\n",
    "sns.histplot(data = random_data_a, ax = axes[0]) # we make a seaborn plot and put it into one of the axes we created\n",
    "sns.histplot(data =  random_data_b, ax = axes[1]) # we make a seaborn plot and put it into one of the axes we created"
   ]
  },
  {
   "cell_type": "markdown",
   "metadata": {},
   "source": [
    "\n",
    "<div class=\"alert alert-block alert-warning\">\n",
    "    <h1><center> START OF EXERCISES </center></h1>"
   ]
  },
  {
   "cell_type": "markdown",
   "metadata": {
    "id": "8AZs1Rdr3BPd"
   },
   "source": [
    "##  <font color = dimgrey> 1. Introduction to the dataset </font>"
   ]
  },
  {
   "cell_type": "markdown",
   "metadata": {
    "id": "2Y4dstDz3BPe"
   },
   "source": [
    "The exercise data depicts data gathered on hospital patients with and without cardiovascular disease, depicted by the target variable **_cardio_**, a common disease associated with a buildup of fatty deposits inside the arteries (blood vessels) of the heart. \n",
    " \n",
    " -------\n",
    "As is often the case with data analysis projects, the features/variables have been retrieved from different sources: \n",
    "- doctors notes (texts)\n",
    "- examination variables that have come from a database containing lab results or taken during a doctors examination\n",
    "- self reported variables\n",
    "\n",
    "--------------\n",
    "The exercise data has the following columns/attributes:\n",
    "\n",
    "| Feature | Type | Explanation |\n",
    "| :- | :- | :-\n",
    "| age | numeric | The age of the patient in days \n",
    "| sex | binary | Male/Female\n",
    "| weight | numeric | Measured weight of the patient (cm)\n",
    "| height | numeric | Measured weight of the patient (kg)\n",
    "| ap_hi | numeric | Measured Systolic blood pressure\n",
    "| ap_lo | numeric | Measured Diastolic blood pressure\n",
    "| smoke | binary | A subjective feature based on asking the patient whether or not he/she smokes\n",
    "| active | binary |  A subjective feature based on asking the patient whether or not he/she exercises regularly\n",
    "| cholesterol | categorical | Cholesterol associated risk information evaluated by a doctor\n",
    "| cardio | binary | Whether or not the patient has been diagnosed with cardiac disease."
   ]
  },
  {
   "cell_type": "markdown",
   "metadata": {
    "id": "jMatXBHE3BPh"
   },
   "source": [
    "-----------\n",
    "#### ***Reading data*** \n",
    "\n",
    "It is good practice to read the features in using their correct types instead of fixing them later. Below, there is ready-made code for you to read in the data, using the data types and column names listed in the above table. Don't change the name of the variable, _data_. It is important in later exercises (for example in ex. 5e) that this is the name of the variable. <font color = red> If you have the dataset in the same folder as this notebook, the path already given to you should work. </font>\n",
    "\n",
    "---------------"
   ]
  },
  {
   "cell_type": "code",
   "execution_count": 7,
   "metadata": {},
   "outputs": [],
   "source": [
    "# --- READ IN DATA (no need to change) --------\n",
    "data_path = \"cardiovascular_disease_data_ex_1.csv\" #if you just give the name of the file it will look for the data in the same folder as your script\n",
    "data = pd.read_csv(data_path, dtype = {'age': 'int', 'height': 'int', 'weight':'int', 'ap_lo':'int', 'ap_hi':'int', 'sex': 'boolean', 'smoke': 'boolean','active':'boolean', 'cardio':'boolean', 'cholesterol':'category'}) #the main data you use in this exercise should have this variable name, so that code given for you further on will run. "
   ]
  },
  {
   "cell_type": "markdown",
   "metadata": {},
   "source": [
    "---------\n",
    "***Exercise 1 a)***\n",
    "1. First, print out the first five rows of the data.\n",
    "\n",
    "2. Then, save the feature names to lists by their types: make three lists named **numeric_features**, **binary_features** and **categorical_features**, containing the **names** of the features of each corresponding type (*you can think in terms of this exercise that binary variables can also be called booleans*).\n",
    "\n",
    "_Saving the feature names to a list or lists and using them to subset prevents typing errors and avoids repetition!_"
   ]
  },
  {
   "cell_type": "code",
   "execution_count": 8,
   "metadata": {},
   "outputs": [
    {
     "name": "stdout",
     "output_type": "stream",
     "text": [
      "First five rows:\n",
      "     age  sex  height  weight  ap_hi  ap_lo  smoke  active  cardio cholesterol\n",
      "0  19797    0     161      55    102     68      0       1       0    elevated\n",
      "1  22571    1     178      68    120     70      0       0       0      normal\n",
      "2  16621    1     169      69    120     80      0       1       0      normal\n",
      "3  16688    0     156      77    120     80      0       1       0      normal\n",
      "4  19498    1     170      98    130     80      1       1       1    elevated\n",
      "\n",
      "Features as lists:\n",
      "numeric features: ['age', 'weight', 'height', 'ap_hi', 'ap_lo']\n",
      "binary features: ['sex', 'smoke', 'active', 'cardio']\n",
      "categorical features: ['cholesterol']\n"
     ]
    }
   ],
   "source": [
    "# --- Your code here for 1a) ---\n",
    "firstFive = pd.read_csv(data_path, nrows=5)\n",
    "print('First five rows:')\n",
    "print(firstFive)\n",
    "\n",
    "numeric_features = ['age', 'weight','height','ap_hi', 'ap_lo']\n",
    "binary_features = ['sex','smoke','active','cardio']\n",
    "categorical_features = ['cholesterol']\n",
    "\n",
    "print('')\n",
    "print('Features as lists:')\n",
    "\n",
    "print('numeric features:', numeric_features)\n",
    "print('binary features:', binary_features)\n",
    "print('categorical features:', categorical_features)"
   ]
  },
  {
   "cell_type": "code",
   "execution_count": 9,
   "metadata": {},
   "outputs": [
    {
     "name": "stdout",
     "output_type": "stream",
     "text": [
      "All of the data:\n",
      "       age  sex  height  weight  ap_hi  ap_lo  smoke  active  cardio  \\\n",
      "0    19797    0     161      55    102     68      0       1       0   \n",
      "1    22571    1     178      68    120     70      0       0       0   \n",
      "2    16621    1     169      69    120     80      0       1       0   \n",
      "3    16688    0     156      77    120     80      0       1       0   \n",
      "4    19498    1     170      98    130     80      1       1       1   \n",
      "..     ...  ...     ...     ...    ...    ...    ...     ...     ...   \n",
      "205  16630    0     158      55    120     80      1       1       0   \n",
      "206  16742    0     170      68    110     70      0       1       0   \n",
      "207  23117    0     157      78    100     60      0       1       1   \n",
      "208  15236    0     153      55    120     80      0       1       0   \n",
      "209  18043    1     172      78    140     90      0       0       1   \n",
      "\n",
      "    cholesterol  \n",
      "0      elevated  \n",
      "1        normal  \n",
      "2        normal  \n",
      "3        normal  \n",
      "4      elevated  \n",
      "..          ...  \n",
      "205      normal  \n",
      "206      normal  \n",
      "207      normal  \n",
      "208      normal  \n",
      "209      normal  \n",
      "\n",
      "[210 rows x 10 columns]\n"
     ]
    }
   ],
   "source": [
    "print('All of the data:')\n",
    "print(pd.read_csv(data_path)) #for my own inspection"
   ]
  },
  {
   "cell_type": "markdown",
   "metadata": {},
   "source": [
    "_________\n",
    "## <font color = dimgrey> 2. Checking data quality\n",
    "    \n",
    "Often in data analysis projects the data has not been gathered exclusively for the data analysis only but originally for other reasons. Because of this, the features are most often not nicely formatted and may have mistakes. It might be tempting to just use the data as is with a model, but it is very important to first check the data for possible mistakes as they can make all the conclusions you make based on your analysis misleading. One good routine for checking data quality is to first calculate statistical descriptives and then to plot the features to check if the values are realistic. \n",
    "\n",
    "  \n",
    "-----------    \n",
    "    \n",
    "Some descriptive statistics don't really make sense for certain kinds of features. In pandas, like in many other packages, some functions work differently depending on the data type of a column. In the following exercise we will look at the data descriptive statistics as well as how the behavior can change when the data types are different. "
   ]
  },
  {
   "cell_type": "markdown",
   "metadata": {},
   "source": [
    "----------\n",
    "***2 a)***  Print out the data types of your dataset below.\n",
    "\n",
    "_Perhaps the most common data types in pandas (see https://pandas.pydata.org/docs/user_guide/basics.html#basics-dtypes) are **float**, **int**, **bool** and **category**._"
   ]
  },
  {
   "cell_type": "code",
   "execution_count": 10,
   "metadata": {},
   "outputs": [
    {
     "name": "stdout",
     "output_type": "stream",
     "text": [
      "age               int32\n",
      "sex             boolean\n",
      "height            int32\n",
      "weight            int32\n",
      "ap_hi             int32\n",
      "ap_lo             int32\n",
      "smoke           boolean\n",
      "active          boolean\n",
      "cardio          boolean\n",
      "cholesterol    category\n",
      "dtype: object\n"
     ]
    }
   ],
   "source": [
    "# --- 2a) Print the feature types of your dataset --- #\n",
    "\n",
    "print(data.dtypes)"
   ]
  },
  {
   "cell_type": "markdown",
   "metadata": {},
   "source": [
    "--------\n",
    "***2 b)*** Use the **DataFrame.describe() method** in the cell below on your data.   \n"
   ]
  },
  {
   "cell_type": "code",
   "execution_count": 11,
   "metadata": {},
   "outputs": [
    {
     "data": {
      "text/html": [
       "<div>\n",
       "<style scoped>\n",
       "    .dataframe tbody tr th:only-of-type {\n",
       "        vertical-align: middle;\n",
       "    }\n",
       "\n",
       "    .dataframe tbody tr th {\n",
       "        vertical-align: top;\n",
       "    }\n",
       "\n",
       "    .dataframe thead th {\n",
       "        text-align: right;\n",
       "    }\n",
       "</style>\n",
       "<table border=\"1\" class=\"dataframe\">\n",
       "  <thead>\n",
       "    <tr style=\"text-align: right;\">\n",
       "      <th></th>\n",
       "      <th>age</th>\n",
       "      <th>sex</th>\n",
       "      <th>height</th>\n",
       "      <th>weight</th>\n",
       "      <th>ap_hi</th>\n",
       "      <th>ap_lo</th>\n",
       "      <th>smoke</th>\n",
       "      <th>active</th>\n",
       "      <th>cardio</th>\n",
       "    </tr>\n",
       "  </thead>\n",
       "  <tbody>\n",
       "    <tr>\n",
       "      <th>count</th>\n",
       "      <td>210.000000</td>\n",
       "      <td>210</td>\n",
       "      <td>210.000000</td>\n",
       "      <td>210.000000</td>\n",
       "      <td>210.000000</td>\n",
       "      <td>210.000000</td>\n",
       "      <td>210</td>\n",
       "      <td>210</td>\n",
       "      <td>210</td>\n",
       "    </tr>\n",
       "    <tr>\n",
       "      <th>unique</th>\n",
       "      <td>NaN</td>\n",
       "      <td>2</td>\n",
       "      <td>NaN</td>\n",
       "      <td>NaN</td>\n",
       "      <td>NaN</td>\n",
       "      <td>NaN</td>\n",
       "      <td>2</td>\n",
       "      <td>2</td>\n",
       "      <td>2</td>\n",
       "    </tr>\n",
       "    <tr>\n",
       "      <th>top</th>\n",
       "      <td>NaN</td>\n",
       "      <td>False</td>\n",
       "      <td>NaN</td>\n",
       "      <td>NaN</td>\n",
       "      <td>NaN</td>\n",
       "      <td>NaN</td>\n",
       "      <td>False</td>\n",
       "      <td>True</td>\n",
       "      <td>False</td>\n",
       "    </tr>\n",
       "    <tr>\n",
       "      <th>freq</th>\n",
       "      <td>NaN</td>\n",
       "      <td>129</td>\n",
       "      <td>NaN</td>\n",
       "      <td>NaN</td>\n",
       "      <td>NaN</td>\n",
       "      <td>NaN</td>\n",
       "      <td>186</td>\n",
       "      <td>162</td>\n",
       "      <td>105</td>\n",
       "    </tr>\n",
       "    <tr>\n",
       "      <th>mean</th>\n",
       "      <td>19455.504762</td>\n",
       "      <td>NaN</td>\n",
       "      <td>164.180952</td>\n",
       "      <td>73.895238</td>\n",
       "      <td>127.857143</td>\n",
       "      <td>81.814286</td>\n",
       "      <td>NaN</td>\n",
       "      <td>NaN</td>\n",
       "      <td>NaN</td>\n",
       "    </tr>\n",
       "    <tr>\n",
       "      <th>std</th>\n",
       "      <td>2429.010199</td>\n",
       "      <td>NaN</td>\n",
       "      <td>7.534648</td>\n",
       "      <td>14.612326</td>\n",
       "      <td>17.508947</td>\n",
       "      <td>9.947652</td>\n",
       "      <td>NaN</td>\n",
       "      <td>NaN</td>\n",
       "      <td>NaN</td>\n",
       "    </tr>\n",
       "    <tr>\n",
       "      <th>min</th>\n",
       "      <td>14367.000000</td>\n",
       "      <td>NaN</td>\n",
       "      <td>142.000000</td>\n",
       "      <td>45.000000</td>\n",
       "      <td>90.000000</td>\n",
       "      <td>50.000000</td>\n",
       "      <td>NaN</td>\n",
       "      <td>NaN</td>\n",
       "      <td>NaN</td>\n",
       "    </tr>\n",
       "    <tr>\n",
       "      <th>25%</th>\n",
       "      <td>17635.750000</td>\n",
       "      <td>NaN</td>\n",
       "      <td>158.000000</td>\n",
       "      <td>64.000000</td>\n",
       "      <td>120.000000</td>\n",
       "      <td>80.000000</td>\n",
       "      <td>NaN</td>\n",
       "      <td>NaN</td>\n",
       "      <td>NaN</td>\n",
       "    </tr>\n",
       "    <tr>\n",
       "      <th>50%</th>\n",
       "      <td>19778.000000</td>\n",
       "      <td>NaN</td>\n",
       "      <td>164.000000</td>\n",
       "      <td>70.000000</td>\n",
       "      <td>120.000000</td>\n",
       "      <td>80.000000</td>\n",
       "      <td>NaN</td>\n",
       "      <td>NaN</td>\n",
       "      <td>NaN</td>\n",
       "    </tr>\n",
       "    <tr>\n",
       "      <th>75%</th>\n",
       "      <td>21230.500000</td>\n",
       "      <td>NaN</td>\n",
       "      <td>170.000000</td>\n",
       "      <td>81.000000</td>\n",
       "      <td>140.000000</td>\n",
       "      <td>90.000000</td>\n",
       "      <td>NaN</td>\n",
       "      <td>NaN</td>\n",
       "      <td>NaN</td>\n",
       "    </tr>\n",
       "    <tr>\n",
       "      <th>max</th>\n",
       "      <td>23565.000000</td>\n",
       "      <td>NaN</td>\n",
       "      <td>195.000000</td>\n",
       "      <td>125.000000</td>\n",
       "      <td>190.000000</td>\n",
       "      <td>120.000000</td>\n",
       "      <td>NaN</td>\n",
       "      <td>NaN</td>\n",
       "      <td>NaN</td>\n",
       "    </tr>\n",
       "  </tbody>\n",
       "</table>\n",
       "</div>"
      ],
      "text/plain": [
       "                 age    sex      height      weight       ap_hi       ap_lo  \\\n",
       "count     210.000000    210  210.000000  210.000000  210.000000  210.000000   \n",
       "unique           NaN      2         NaN         NaN         NaN         NaN   \n",
       "top              NaN  False         NaN         NaN         NaN         NaN   \n",
       "freq             NaN    129         NaN         NaN         NaN         NaN   \n",
       "mean    19455.504762    NaN  164.180952   73.895238  127.857143   81.814286   \n",
       "std      2429.010199    NaN    7.534648   14.612326   17.508947    9.947652   \n",
       "min     14367.000000    NaN  142.000000   45.000000   90.000000   50.000000   \n",
       "25%     17635.750000    NaN  158.000000   64.000000  120.000000   80.000000   \n",
       "50%     19778.000000    NaN  164.000000   70.000000  120.000000   80.000000   \n",
       "75%     21230.500000    NaN  170.000000   81.000000  140.000000   90.000000   \n",
       "max     23565.000000    NaN  195.000000  125.000000  190.000000  120.000000   \n",
       "\n",
       "        smoke active cardio  \n",
       "count     210    210    210  \n",
       "unique      2      2      2  \n",
       "top     False   True  False  \n",
       "freq      186    162    105  \n",
       "mean      NaN    NaN    NaN  \n",
       "std       NaN    NaN    NaN  \n",
       "min       NaN    NaN    NaN  \n",
       "25%       NaN    NaN    NaN  \n",
       "50%       NaN    NaN    NaN  \n",
       "75%       NaN    NaN    NaN  \n",
       "max       NaN    NaN    NaN  "
      ]
     },
     "execution_count": 11,
     "metadata": {},
     "output_type": "execute_result"
    }
   ],
   "source": [
    "# --- Your code for 2b) --- #\n",
    "data.describe()"
   ]
  },
  {
   "cell_type": "markdown",
   "metadata": {},
   "source": [
    "--------\n",
    "***2 c)*** Did you get all of the features statistics or not? What do you think happened? "
   ]
  },
  {
   "cell_type": "markdown",
   "metadata": {},
   "source": [
    "<font color = red> ***--- Your answer for 2c) here ---*** </font>\n",
    "\n",
    "<b>Answer:</b>\n",
    "\n",
    "I did not get the \"mean\", \"std\", \"25%\", \"50%\", \"75%\" or \"max\" from \"sex\", \"smoke\", \"active\" or \"cardio\", since they're not numeric features and thus do not have those. \"Unique\", \"top\" or \"freq\" are not available for numeric features. \n",
    "\n",
    "Otherwise the statistics seem to be fine. There are 210 unique patients data, most of them are women (129 pcs), the eldest is 23565 days (around 64 years) old, youngest is 14367 days (around 39 years) old etc."
   ]
  },
  {
   "cell_type": "markdown",
   "metadata": {},
   "source": [
    "----------\n",
    "***2 d)*** Calculate descriptives for the binary (boolean) features and the categorical feature <br>\n",
    "\n",
    "_tip: in python, same type data structures can in many cases be concatenated using the + operator. If youre using the lists of names you created to subset, you can concatenate the two lists of feature names and use the resulting list to help you subset the dataframe_"
   ]
  },
  {
   "cell_type": "code",
   "execution_count": 12,
   "metadata": {},
   "outputs": [
    {
     "data": {
      "text/html": [
       "<div>\n",
       "<style scoped>\n",
       "    .dataframe tbody tr th:only-of-type {\n",
       "        vertical-align: middle;\n",
       "    }\n",
       "\n",
       "    .dataframe tbody tr th {\n",
       "        vertical-align: top;\n",
       "    }\n",
       "\n",
       "    .dataframe thead th {\n",
       "        text-align: right;\n",
       "    }\n",
       "</style>\n",
       "<table border=\"1\" class=\"dataframe\">\n",
       "  <thead>\n",
       "    <tr style=\"text-align: right;\">\n",
       "      <th></th>\n",
       "      <th>sex</th>\n",
       "      <th>smoke</th>\n",
       "      <th>active</th>\n",
       "      <th>cardio</th>\n",
       "    </tr>\n",
       "  </thead>\n",
       "  <tbody>\n",
       "    <tr>\n",
       "      <th>count</th>\n",
       "      <td>210</td>\n",
       "      <td>210</td>\n",
       "      <td>210</td>\n",
       "      <td>210</td>\n",
       "    </tr>\n",
       "    <tr>\n",
       "      <th>unique</th>\n",
       "      <td>2</td>\n",
       "      <td>2</td>\n",
       "      <td>2</td>\n",
       "      <td>2</td>\n",
       "    </tr>\n",
       "    <tr>\n",
       "      <th>top</th>\n",
       "      <td>False</td>\n",
       "      <td>False</td>\n",
       "      <td>True</td>\n",
       "      <td>False</td>\n",
       "    </tr>\n",
       "    <tr>\n",
       "      <th>freq</th>\n",
       "      <td>129</td>\n",
       "      <td>186</td>\n",
       "      <td>162</td>\n",
       "      <td>105</td>\n",
       "    </tr>\n",
       "  </tbody>\n",
       "</table>\n",
       "</div>"
      ],
      "text/plain": [
       "          sex  smoke active cardio\n",
       "count     210    210    210    210\n",
       "unique      2      2      2      2\n",
       "top     False  False   True  False\n",
       "freq      129    186    162    105"
      ]
     },
     "metadata": {},
     "output_type": "display_data"
    },
    {
     "data": {
      "text/html": [
       "<div>\n",
       "<style scoped>\n",
       "    .dataframe tbody tr th:only-of-type {\n",
       "        vertical-align: middle;\n",
       "    }\n",
       "\n",
       "    .dataframe tbody tr th {\n",
       "        vertical-align: top;\n",
       "    }\n",
       "\n",
       "    .dataframe thead th {\n",
       "        text-align: right;\n",
       "    }\n",
       "</style>\n",
       "<table border=\"1\" class=\"dataframe\">\n",
       "  <thead>\n",
       "    <tr style=\"text-align: right;\">\n",
       "      <th></th>\n",
       "      <th>cholesterol</th>\n",
       "    </tr>\n",
       "  </thead>\n",
       "  <tbody>\n",
       "    <tr>\n",
       "      <th>count</th>\n",
       "      <td>210</td>\n",
       "    </tr>\n",
       "    <tr>\n",
       "      <th>unique</th>\n",
       "      <td>4</td>\n",
       "    </tr>\n",
       "    <tr>\n",
       "      <th>top</th>\n",
       "      <td>normal</td>\n",
       "    </tr>\n",
       "    <tr>\n",
       "      <th>freq</th>\n",
       "      <td>153</td>\n",
       "    </tr>\n",
       "  </tbody>\n",
       "</table>\n",
       "</div>"
      ],
      "text/plain": [
       "       cholesterol\n",
       "count          210\n",
       "unique           4\n",
       "top         normal\n",
       "freq           153"
      ]
     },
     "metadata": {},
     "output_type": "display_data"
    }
   ],
   "source": [
    "# 2d) Your code here #\n",
    "display(data.describe(include=\"boolean\"))\n",
    "display(data.describe(include=\"category\"))"
   ]
  },
  {
   "cell_type": "markdown",
   "metadata": {},
   "source": [
    "----------\n",
    "Now, we will see ***what would have happened if the data was read in using default settings*** and not giving information about the types of the features (dtypes), giving no arguments to pd.read_csv. \n",
    "\n",
    "Run the below cell (no need to modify the code) and look at the output of the cell with the wrongly read data. Compare it with the output of the cell where you used the correctly read data to get the descriptives. "
   ]
  },
  {
   "cell_type": "code",
   "execution_count": 13,
   "metadata": {},
   "outputs": [
    {
     "data": {
      "text/html": [
       "<div>\n",
       "<style scoped>\n",
       "    .dataframe tbody tr th:only-of-type {\n",
       "        vertical-align: middle;\n",
       "    }\n",
       "\n",
       "    .dataframe tbody tr th {\n",
       "        vertical-align: top;\n",
       "    }\n",
       "\n",
       "    .dataframe thead th {\n",
       "        text-align: right;\n",
       "    }\n",
       "</style>\n",
       "<table border=\"1\" class=\"dataframe\">\n",
       "  <thead>\n",
       "    <tr style=\"text-align: right;\">\n",
       "      <th></th>\n",
       "      <th>age</th>\n",
       "      <th>sex</th>\n",
       "      <th>height</th>\n",
       "      <th>weight</th>\n",
       "      <th>ap_hi</th>\n",
       "      <th>ap_lo</th>\n",
       "      <th>smoke</th>\n",
       "      <th>active</th>\n",
       "      <th>cardio</th>\n",
       "    </tr>\n",
       "  </thead>\n",
       "  <tbody>\n",
       "    <tr>\n",
       "      <th>count</th>\n",
       "      <td>210.000000</td>\n",
       "      <td>210.000000</td>\n",
       "      <td>210.000000</td>\n",
       "      <td>210.000000</td>\n",
       "      <td>210.000000</td>\n",
       "      <td>210.000000</td>\n",
       "      <td>210.000000</td>\n",
       "      <td>210.000000</td>\n",
       "      <td>210.000000</td>\n",
       "    </tr>\n",
       "    <tr>\n",
       "      <th>mean</th>\n",
       "      <td>19455.504762</td>\n",
       "      <td>0.385714</td>\n",
       "      <td>164.180952</td>\n",
       "      <td>73.895238</td>\n",
       "      <td>127.857143</td>\n",
       "      <td>81.814286</td>\n",
       "      <td>0.114286</td>\n",
       "      <td>0.771429</td>\n",
       "      <td>0.500000</td>\n",
       "    </tr>\n",
       "    <tr>\n",
       "      <th>std</th>\n",
       "      <td>2429.010199</td>\n",
       "      <td>0.487927</td>\n",
       "      <td>7.534648</td>\n",
       "      <td>14.612326</td>\n",
       "      <td>17.508947</td>\n",
       "      <td>9.947652</td>\n",
       "      <td>0.318918</td>\n",
       "      <td>0.420916</td>\n",
       "      <td>0.501195</td>\n",
       "    </tr>\n",
       "    <tr>\n",
       "      <th>min</th>\n",
       "      <td>14367.000000</td>\n",
       "      <td>0.000000</td>\n",
       "      <td>142.000000</td>\n",
       "      <td>45.000000</td>\n",
       "      <td>90.000000</td>\n",
       "      <td>50.000000</td>\n",
       "      <td>0.000000</td>\n",
       "      <td>0.000000</td>\n",
       "      <td>0.000000</td>\n",
       "    </tr>\n",
       "    <tr>\n",
       "      <th>25%</th>\n",
       "      <td>17635.750000</td>\n",
       "      <td>0.000000</td>\n",
       "      <td>158.000000</td>\n",
       "      <td>64.000000</td>\n",
       "      <td>120.000000</td>\n",
       "      <td>80.000000</td>\n",
       "      <td>0.000000</td>\n",
       "      <td>1.000000</td>\n",
       "      <td>0.000000</td>\n",
       "    </tr>\n",
       "    <tr>\n",
       "      <th>50%</th>\n",
       "      <td>19778.000000</td>\n",
       "      <td>0.000000</td>\n",
       "      <td>164.000000</td>\n",
       "      <td>70.000000</td>\n",
       "      <td>120.000000</td>\n",
       "      <td>80.000000</td>\n",
       "      <td>0.000000</td>\n",
       "      <td>1.000000</td>\n",
       "      <td>0.500000</td>\n",
       "    </tr>\n",
       "    <tr>\n",
       "      <th>75%</th>\n",
       "      <td>21230.500000</td>\n",
       "      <td>1.000000</td>\n",
       "      <td>170.000000</td>\n",
       "      <td>81.000000</td>\n",
       "      <td>140.000000</td>\n",
       "      <td>90.000000</td>\n",
       "      <td>0.000000</td>\n",
       "      <td>1.000000</td>\n",
       "      <td>1.000000</td>\n",
       "    </tr>\n",
       "    <tr>\n",
       "      <th>max</th>\n",
       "      <td>23565.000000</td>\n",
       "      <td>1.000000</td>\n",
       "      <td>195.000000</td>\n",
       "      <td>125.000000</td>\n",
       "      <td>190.000000</td>\n",
       "      <td>120.000000</td>\n",
       "      <td>1.000000</td>\n",
       "      <td>1.000000</td>\n",
       "      <td>1.000000</td>\n",
       "    </tr>\n",
       "  </tbody>\n",
       "</table>\n",
       "</div>"
      ],
      "text/plain": [
       "                age         sex      height      weight       ap_hi  \\\n",
       "count    210.000000  210.000000  210.000000  210.000000  210.000000   \n",
       "mean   19455.504762    0.385714  164.180952   73.895238  127.857143   \n",
       "std     2429.010199    0.487927    7.534648   14.612326   17.508947   \n",
       "min    14367.000000    0.000000  142.000000   45.000000   90.000000   \n",
       "25%    17635.750000    0.000000  158.000000   64.000000  120.000000   \n",
       "50%    19778.000000    0.000000  164.000000   70.000000  120.000000   \n",
       "75%    21230.500000    1.000000  170.000000   81.000000  140.000000   \n",
       "max    23565.000000    1.000000  195.000000  125.000000  190.000000   \n",
       "\n",
       "            ap_lo       smoke      active      cardio  \n",
       "count  210.000000  210.000000  210.000000  210.000000  \n",
       "mean    81.814286    0.114286    0.771429    0.500000  \n",
       "std      9.947652    0.318918    0.420916    0.501195  \n",
       "min     50.000000    0.000000    0.000000    0.000000  \n",
       "25%     80.000000    0.000000    1.000000    0.000000  \n",
       "50%     80.000000    0.000000    1.000000    0.500000  \n",
       "75%     90.000000    0.000000    1.000000    1.000000  \n",
       "max    120.000000    1.000000    1.000000    1.000000  "
      ]
     },
     "execution_count": 13,
     "metadata": {},
     "output_type": "execute_result"
    }
   ],
   "source": [
    "# read in the dataset with no arguments\n",
    "wrongly_read_data = pd.read_csv(data_path)\n",
    "\n",
    "# calculate descriptives for the data that was wrongly read in. \n",
    "wrongly_read_data.describe()"
   ]
  },
  {
   "cell_type": "markdown",
   "metadata": {},
   "source": [
    "***2 e)*** \n",
    "- Looking at the above output, can you now say whats wrong with this presentation and why it was important to define the data types? "
   ]
  },
  {
   "cell_type": "markdown",
   "metadata": {},
   "source": [
    "<font color = red> ***--- Your answer for 2 e) here ---*** </font>\n",
    "\n",
    "<b>Answer:</b>\n",
    "\n",
    "If the data types arent defined correctly, the describe() method will show i.e. mean or std values for i.e. sex which are completely wrong and irrational. With numerical features this isn't that big of an issue in this case, but boolean and category features all become basically useless for certain descriptive values."
   ]
  },
  {
   "cell_type": "markdown",
   "metadata": {},
   "source": [
    "-----------------------\n",
    "## 3. Plotting numeric features\n",
    "Descriptives don't really give a full or intuitive picture of the distribution of features. Next, we will make use of different plots to check the data quality.  "
   ]
  },
  {
   "cell_type": "markdown",
   "metadata": {},
   "source": [
    "----------\n",
    "***3 a)*** \n",
    "\n",
    "Plot the numeric features as histograms (see tutorial if you need help).\n",
    "\n",
    "_tip: if you give only one grid-size argument for plt.subplots() like plt.subplots(3) the grid will be one-dimensional and you can index it with only one indexer._  \n"
   ]
  },
  {
   "cell_type": "code",
   "execution_count": 14,
   "metadata": {},
   "outputs": [
    {
     "data": {
      "text/plain": [
       "<AxesSubplot:xlabel='ap_lo', ylabel='Count'>"
      ]
     },
     "execution_count": 14,
     "metadata": {},
     "output_type": "execute_result"
    },
    {
     "data": {
      "image/png": "[encoded data removed]",
      "text/plain": [
       "<Figure size 432x288 with 5 Axes>"
      ]
     },
     "metadata": {
      "needs_background": "light"
     },
     "output_type": "display_data"
    }
   ],
   "source": [
    "# --- Your code for 3a) here --- #\n",
    "\n",
    "\n",
    "fig, axes = plt.subplots(5, constrained_layout=True)\n",
    "\n",
    "sns.set(rc={'figure.figsize':(16,18)})\n",
    "\n",
    "sns.histplot(data = data[\"age\"], ax = axes[0]) \n",
    "sns.histplot(data = data[\"height\"], ax = axes[1])\n",
    "sns.histplot(data = data[\"weight\"], ax = axes[2])\n",
    "sns.histplot(data = data[\"ap_hi\"], ax = axes[3])\n",
    "sns.histplot(data = data[\"ap_lo\"], ax = axes[4])"
   ]
  },
  {
   "cell_type": "markdown",
   "metadata": {},
   "source": [
    "sns.set found from https://stackoverflow.com/questions/31594549/how-to-change-the-figure-size-of-a-seaborn-axes-or-figure-level-plot"
   ]
  },
  {
   "cell_type": "markdown",
   "metadata": {},
   "source": [
    "_______\n",
    "## 4. Plotting binary and categorical features"
   ]
  },
  {
   "cell_type": "markdown",
   "metadata": {},
   "source": [
    "***4 a)*** Plot **barplots** for each of the non-numeric features. **Use fractions, not the real frequencies of the levels of these features**.\n",
    "\n",
    "--------------\n",
    "\n",
    "_tip: For plotting, see documentation on axes.bar. To get the fractions, see the value_counts function and its optional argument normalize._\n",
    "\n",
    "_If you read in the dtypes to be pandas dtype.boolean, in some cases its easier to work with other packages, suchs as matplotlib when they are represented as numbers [0,1] and not True or False. If you get errors you can try to cast them momentarily to be int or float with astype. This does not mean that you've done the exercise incorrectly, just that you have to change them for the plotting package._ "
   ]
  },
  {
   "cell_type": "code",
   "execution_count": 15,
   "metadata": {},
   "outputs": [
    {
     "data": {
      "image/png": "[encoded data removed]",
      "text/plain": [
       "<Figure size 720x720 with 4 Axes>"
      ]
     },
     "metadata": {},
     "output_type": "display_data"
    }
   ],
   "source": [
    "# --- Your code for 4a) here --- #\n",
    "\n",
    "# Create figure with six axes in a 2*3 grid and set up titles --------------------------------------------------------\n",
    "fig, axes = plt.subplots(4, figsize = (10,10)) # now axes have indexes like axes[i, j]\n",
    "\n",
    "# Plot the binary data -----------------------------------------------------------------------------------------------\n",
    "for j, binary_data in enumerate(binary_features): \n",
    "    axes[j].bar(x = [\"0\",\"1\"], height = np.unique(data[binary_data], return_counts=True)[1]) #make a barplot\n",
    "    axes[j].set_title(binary_features[j]) #set a title for each axes\n",
    "    axes[j].set_ylim((0,200)) # set the yaxis limits, set_xlim works the same way.  \n",
    "\n",
    "fig.suptitle(\"Barplots for non-numeric features\")\n",
    "plt.tight_layout()"
   ]
  },
  {
   "cell_type": "code",
   "execution_count": 16,
   "metadata": {},
   "outputs": [
    {
     "data": {
      "text/plain": [
       "<BarContainer object of 4 artists>"
      ]
     },
     "execution_count": 16,
     "metadata": {},
     "output_type": "execute_result"
    },
    {
     "data": {
      "image/png": "[encoded data removed]",
      "text/plain": [
       "<Figure size 1152x1296 with 1 Axes>"
      ]
     },
     "metadata": {},
     "output_type": "display_data"
    }
   ],
   "source": [
    "# Plot the cholesterol data ------------------------------------------------------------------------------------------\n",
    "fig, axes = plt.subplots(1)\n",
    "#without value_counts().index.tolist() the values are wrongly distributed\n",
    "axes.bar(x = data[\"cholesterol\"].value_counts().index.tolist(), height = data[\"cholesterol\"].value_counts())\n"
   ]
  },
  {
   "cell_type": "markdown",
   "metadata": {},
   "source": [
    "**4 b)** \n",
    "\n",
    "Do you see something odd with one of the features? Fix it. \n",
    "\n",
    "_If you read the dtype of the categorical feature to be pandas dtype.categorical, **you have to also use the pandas function remove_categories to remove the category level from the feature**, even if you would have already removed the value. You can do this like: _data['feature_name'] = data['feature_name'].cat.remove_categories(\"category name to delete\")_"
   ]
  },
  {
   "cell_type": "markdown",
   "metadata": {},
   "source": [
    "<b> Answer:</b>\n",
    "    \n",
    "    One of the doctors has described the cholesterol level to be \"elev ated\" which is clearly a typo."
   ]
  },
  {
   "cell_type": "code",
   "execution_count": 17,
   "metadata": {},
   "outputs": [
    {
     "name": "stdout",
     "output_type": "stream",
     "text": [
      "normal       153\n",
      "at risk       35\n",
      "elevated      21\n",
      "elev ated      1\n",
      "Name: cholesterol, dtype: int64\n",
      "normal       153\n",
      "at risk       35\n",
      "elevated      22\n",
      "elev ated      0\n",
      "Name: cholesterol, dtype: int64\n",
      "normal      153\n",
      "at risk      35\n",
      "elevated     22\n",
      "Name: cholesterol, dtype: int64\n"
     ]
    }
   ],
   "source": [
    "### Your code for 4b) here ###\n",
    "\n",
    "_data = data.copy()\n",
    "#remove nan too\n",
    "\n",
    "print(_data['cholesterol'].value_counts()) #Let's see what kind of data is here, how many of each answer\n",
    "\n",
    "_data.loc[_data['cholesterol'] == \"elev ated\", 'cholesterol'] = \"elevated\"\n",
    "\n",
    "print(_data['cholesterol'].value_counts()) #Moved one point from elev ated to elevated. \n",
    "\n",
    "_data['cholesterol'] = _data['cholesterol'].cat.remove_categories(\"elev ated\")\n",
    "\n",
    "print(_data['cholesterol'].value_counts()) #Deleted the extra category.\n",
    "\n"
   ]
  },
  {
   "cell_type": "markdown",
   "metadata": {},
   "source": [
    "-------------\n",
    "\n",
    "## 5. Preprocessing numeric features"
   ]
  },
  {
   "cell_type": "markdown",
   "metadata": {},
   "source": [
    "Scaling the data improves the performance of machine learning algorithms in many cases, or perhaps better put, can ruin performance if not done. For instance with distance based algorithms covered in the course such as PCA, T-SNE and KNN some features with large values can dominate the distance calculations. \n",
    "\n",
    "-----------\n",
    "We will look at two often used ways of bringing the values to the same scale: **min-max scaling to [0,1]** and **standardizing the features to 0 mean and unit variance**. We will see, that the decision has implications on how the data will look afterwards. Standardizing values is very common in statistics and min-max scaling is for example used in training neural networks, where we want the range to match the range of an activation function in the network. Its good to know both. \n",
    "\n",
    "Two functions, sklearn.minmax_scale and sklearn.scale have been imported for you and you can use them in the following exercises.\n",
    "__________________________\n",
    "\n"
   ]
  },
  {
   "cell_type": "markdown",
   "metadata": {},
   "source": [
    "**5 a)** In this exercise we will use boxplots. Explain what a boxplot is and what information it gives you. "
   ]
  },
  {
   "cell_type": "markdown",
   "metadata": {},
   "source": [
    "<font color = red> --- **Answer 5 a) here** --- </font>\n",
    "\n",
    "<b>From Wikipedia:</b> \n",
    "\n",
    "\"Boxplot is a method for graphically demonstrating the locality, spread and skewness groups of numerical data through their quartiles.\"\n",
    "\n",
    "\"There can be lines extending from the box, indicating variability outside the upper and lower quartiles.\"\n",
    "\n",
    "\"Outliers that differ significantly from the rest of the dataset may be plotted as individual points beyond the whiskers on the boxplot.\"\n",
    "\n",
    "<b>From Geeksforgeeks.org:</b>\n",
    "\n",
    "\"A Box Plot is also known as Whisker plot is created to display the summary of the set of data values having properties like minimum, first quartile, median, third quartile and maximum. In the box plot, a box is created from the first quartile to the third quartile, a vertical line is also there which goes through the box at the median. Here x-axis denotes the data to be plotted while the y-axis shows the frequency distribution.\""
   ]
  },
  {
   "cell_type": "markdown",
   "metadata": {},
   "source": [
    "\n",
    "**5 b)** Min-max numeric attributes to [0,1] and **store the results in a new dataframe called data_min_maxed**. You might have to wrap the data to a dataframe again using pd.DataFrame()"
   ]
  },
  {
   "cell_type": "code",
   "execution_count": 18,
   "metadata": {},
   "outputs": [
    {
     "name": "stdout",
     "output_type": "stream",
     "text": [
      "          age  weight    height  ap_hi     ap_lo\n",
      "0    0.590346  0.1250  0.358491   0.12  0.257143\n",
      "1    0.891933  0.2875  0.679245   0.30  0.285714\n",
      "2    0.245053  0.3000  0.509434   0.30  0.428571\n",
      "3    0.252337  0.4000  0.264151   0.30  0.428571\n",
      "4    0.557839  0.6625  0.528302   0.40  0.428571\n",
      "..        ...     ...       ...    ...       ...\n",
      "205  0.246032  0.1250  0.301887   0.30  0.428571\n",
      "206  0.258208  0.2875  0.528302   0.20  0.285714\n",
      "207  0.951294  0.4125  0.283019   0.10  0.142857\n",
      "208  0.094477  0.1250  0.207547   0.30  0.428571\n",
      "209  0.399652  0.4125  0.566038   0.50  0.571429\n",
      "\n",
      "[210 rows x 5 columns]\n"
     ]
    }
   ],
   "source": [
    "# --- Your code for 5b) here --- #\n",
    "# use the variable name data_min_maxed\n",
    "\n",
    "data_min_maxed = pd.DataFrame(minmax_scale(data[numeric_features]), columns = numeric_features)\n",
    "print(data_min_maxed)"
   ]
  },
  {
   "cell_type": "markdown",
   "metadata": {},
   "source": [
    "**5 c)** Standardize numeric attributes to 0 mean and unit variance and **store the results in a new dataframe called data_standardized**"
   ]
  },
  {
   "cell_type": "code",
   "execution_count": 19,
   "metadata": {},
   "outputs": [
    {
     "name": "stdout",
     "output_type": "stream",
     "text": [
      "          age    weight    height     ap_hi     ap_lo\n",
      "0    0.140926 -1.296193 -0.423185 -1.480325 -1.392016\n",
      "1    1.285684 -0.404407  1.838449 -0.449822 -1.190484\n",
      "2   -1.169727 -0.335808  0.641113 -0.449822 -0.182819\n",
      "3   -1.142077  0.212983 -1.088372 -0.449822 -0.182819\n",
      "4    0.017537  1.653560  0.774151  0.122679 -0.182819\n",
      "..        ...       ...       ...       ...       ...\n",
      "205 -1.166013 -1.296193 -0.822297 -0.449822 -0.182819\n",
      "206 -1.119793 -0.404407  0.774151 -1.022324 -1.190484\n",
      "207  1.511004  0.281582 -0.955335 -1.594825 -2.198148\n",
      "208 -1.741280 -1.296193 -1.487484 -0.449822 -0.182819\n",
      "209 -0.582904  0.281582  1.040225  0.695180  0.824845\n",
      "\n",
      "[210 rows x 5 columns]\n",
      "\n",
      "Data Standardized Mean: \n",
      "age       6.132661e-17\n",
      "weight   -2.511219e-16\n",
      "height   -1.341784e-15\n",
      "ap_hi    -3.156205e-16\n",
      "ap_lo    -2.558800e-16\n",
      "dtype: float64\n",
      "\n",
      "Data Standardized Standard Deviation : \n",
      "age       1.002389\n",
      "weight    1.002389\n",
      "height    1.002389\n",
      "ap_hi     1.002389\n",
      "ap_lo     1.002389\n",
      "dtype: float64\n"
     ]
    }
   ],
   "source": [
    "# Your code for 5c here --- #\n",
    "stand = StandardScaler()\n",
    "data_standardized = pd.DataFrame(stand.fit_transform(data[numeric_features]), columns=data[numeric_features].columns)\n",
    "\n",
    "print(data_standardized)\n",
    "print(\"\")\n",
    "print(\"Data Standardized Mean: \")\n",
    "print(data_standardized.mean())\n",
    "print(\"\")\n",
    "print(\"Data Standardized Standard Deviation : \")\n",
    "print(data_standardized.std())"
   ]
  },
  {
   "cell_type": "markdown",
   "metadata": {},
   "source": [
    "**5 d)** Make two boxplots of the 'age' feature, one plot with the data_min_maxed and one with the data_standardized. Preferably put the plots side-by-side and give each titles. See the tutorial in the beginning for help. "
   ]
  },
  {
   "cell_type": "code",
   "execution_count": 20,
   "metadata": {
    "scrolled": false
   },
   "outputs": [
    {
     "name": "stdout",
     "output_type": "stream",
     "text": [
      "0      0.590346\n",
      "1      0.891933\n",
      "2      0.245053\n",
      "3      0.252337\n",
      "4      0.557839\n",
      "         ...   \n",
      "205    0.246032\n",
      "206    0.258208\n",
      "207    0.951294\n",
      "208    0.094477\n",
      "209    0.399652\n",
      "Name: age, Length: 210, dtype: float64\n"
     ]
    },
    {
     "data": {
      "image/png": "[encoded data removed]",
      "text/plain": [
       "<Figure size 864x360 with 2 Axes>"
      ]
     },
     "metadata": {},
     "output_type": "display_data"
    }
   ],
   "source": [
    "# Your code for 5d) here --- #\n",
    "\n",
    "fig, (axel1, axel2) = plt.subplots(ncols=2, figsize=(12, 5))\n",
    "\n",
    "\n",
    "fig.suptitle(\"Boxplots of minmax plot and standardized plot for age\")\n",
    "\n",
    "axel1.boxplot(data_min_maxed[\"age\"])\n",
    "axel1.set_title('Minmax plot')\n",
    "\n",
    "axel2.boxplot(data_standardized[\"age\"])\n",
    "axel2.set_title(\"Standardized plot\")\n",
    "\n",
    "print(data_min_maxed[\"age\"])\n",
    "\n"
   ]
  },
  {
   "cell_type": "markdown",
   "metadata": {},
   "source": [
    "---------\n",
    "\n",
    "Lets see the differences of these preprocessing methods through an example. We will add an \"outlier\" point (some point with a large value) to replace the \n",
    "last value in both data, then again minmax and standardize and plot. The code to add the value is given for you and you shouldn't change it. \n",
    "\n",
    "--------------------\n",
    "\n",
    "***5e) Do the following:***\n",
    "1. Take the data for the age feature (age_w_outlier) provided for you\n",
    "2. Make two variables, age_w_outlier_minmaxed, containing the min-maxed values of the age_w_outlier and\n",
    "3.  age_w_outlier_standardized containing the standardized values for the age_w_outlier\n"
   ]
  },
  {
   "cell_type": "code",
   "execution_count": 21,
   "metadata": {},
   "outputs": [],
   "source": [
    "### Add an outlier, DONT CHANGE THIS CELL CODE, JUST RUN IT ###\n",
    "data_w_outlier = data.copy() #data should be the name of the variable where you have stored your data!\n",
    "data_w_outlier.loc[data.shape[0] -1 , 'age'] = 150 #change the last value of age to be 150\n",
    "age_w_outlier = data_w_outlier.age"
   ]
  },
  {
   "cell_type": "code",
   "execution_count": 22,
   "metadata": {
    "scrolled": false
   },
   "outputs": [
    {
     "name": "stdout",
     "output_type": "stream",
     "text": [
      "\n",
      "Age data with outlier(150):\n",
      "0      19797\n",
      "1      22571\n",
      "2      16621\n",
      "3      16688\n",
      "4      19498\n",
      "       ...  \n",
      "205    16630\n",
      "206    16742\n",
      "207    23117\n",
      "208    15236\n",
      "209      150\n",
      "Name: age, Length: 210, dtype: int32\n",
      "\n",
      "age_w_outlier_minmaxed: \n",
      "[0.83907751 0.95754858 0.70343797 0.70629938 0.82630792 0.84159727\n",
      " 0.94802477 0.86641042 0.64057228 0.67311552 0.919795   0.85803972\n",
      " 0.68601324 0.90057655 0.86700833 0.79504591 0.91723254 0.67636131\n",
      " 0.92321162 0.90313901 0.64744822 0.74170404 0.74469357 0.96459534\n",
      " 0.64667948 0.96344224 0.71108264 0.86568439 0.77125774 0.77475977\n",
      " 0.86555627 0.83617339 0.60717489 0.88716635 0.99884689 0.74080717\n",
      " 0.85564809 0.89869742 0.71522528 0.74358317 0.74089259 0.87063848\n",
      " 0.83681401 0.80854153 0.67414051 0.70668375 0.84018791 0.84586803\n",
      " 0.68259663 0.74687166 0.77241085 0.73525518 0.96416827 0.6707666\n",
      " 0.76583387 0.82464232 0.76668802 0.6819133  0.89711723 0.61973094\n",
      " 0.95964126 0.93376041 0.86307922 0.87913731 0.80773009 0.9286782\n",
      " 0.92449285 0.83894939 0.61507581 0.89844117 0.60794363 0.98530856\n",
      " 0.80832799 0.83194533 0.86875934 0.86551356 0.68088832 0.98863976\n",
      " 0.86619688 0.76596199 0.93670724 1.         0.84061499 0.92936152\n",
      " 0.96130685 0.9571215  0.80491138 0.82916934 0.89557976 0.88985693\n",
      " 0.70839206 0.89182148 0.71637839 0.80226351 0.99487508 0.86363442\n",
      " 0.93478539 0.83104847 0.89622037 0.93448644 0.80738843 0.83988896\n",
      " 0.83715567 0.84539825 0.62707666 0.95062994 0.9298313  0.92295537\n",
      " 0.6824685  0.64492846 0.62199445 0.95511424 0.98513773 0.83561819\n",
      " 0.6768738  0.70032031 0.74674354 0.83988896 0.93158232 0.80093957\n",
      " 0.86162716 0.74917788 0.83822336 0.94857997 0.96164852 0.80427077\n",
      " 0.7715994  0.8568012  0.95174034 0.83250053 0.90681187 0.79884689\n",
      " 0.78547939 0.89946615 0.89429853 0.88097373 0.98377109 0.79893231\n",
      " 0.89874012 0.92910527 0.80076874 0.82575272 0.61592996 0.80106769\n",
      " 0.89660474 0.87303011 0.8128123  0.99175742 0.88827675 0.80354474\n",
      " 0.96895153 0.84262225 0.61601537 0.80819987 0.92936152 0.93290626\n",
      " 0.82750374 0.84146914 0.93081358 0.95357677 0.8685458  0.93572496\n",
      " 0.9231262  0.87755712 0.96339953 0.98368567 0.89485373 0.80418535\n",
      " 0.92782404 0.61221439 0.83301303 0.70591501 0.96476618 0.77885971\n",
      " 0.73474269 0.86512919 0.87273116 0.73973948 0.96352765 0.70685458\n",
      " 0.79419176 0.7988896  0.64390348 0.86568439 0.7370489  0.89604954\n",
      " 0.84518471 0.76647448 0.80017083 0.65240231 0.83830878 0.90852018\n",
      " 0.83480675 0.89502456 0.7682255  0.80841341 0.9331198  0.63694213\n",
      " 0.61883408 0.68148623 0.84309204 0.70365151 0.80790092 0.64535554\n",
      " 0.74840914 0.70382234 0.70860559 0.98086697 0.64428785 0.        ]\n",
      "\n",
      "age_w_outlier_standardized: \n",
      "[ 0.15447569  1.15873059 -0.9953129  -0.97105728  0.04623048  0.17583511\n",
      "  1.07799921  0.38617112 -1.5282124  -1.25235002  0.83870127  0.3152144\n",
      " -1.14301874  0.67579042  0.39123946 -0.21877117  0.81697982 -1.22483619\n",
      "  0.8676632   0.69751186 -1.46992651 -0.67093929 -0.6455976   1.21846456\n",
      " -1.47644295  1.20868991 -0.93051058  0.38001671 -0.4204186  -0.39073263\n",
      "  0.37893064  0.12985805 -1.81131525  0.56211484  1.5088079  -0.6785418\n",
      "  0.29494105  0.65986135 -0.89539424 -0.65501023 -0.67781775  0.42201151\n",
      "  0.13528841 -0.10437155 -1.24366144 -0.96779907  0.16388832  0.21203752\n",
      " -1.17198067 -0.62713437 -0.41064395 -0.72560493  1.21484432 -1.27226135\n",
      " -0.46639567  0.03211154 -0.45915519 -1.17777305  0.64646646 -1.70488017\n",
      "  1.17646977  0.95708315  0.35793324  0.49405431 -0.11125001  0.91400228\n",
      "  0.87852392  0.15338962 -1.74434079  0.65768921 -1.80479882  1.39404626\n",
      " -0.10618167  0.09401766  0.40608245  0.37856862 -1.18646163  1.42228414\n",
      "  0.384361   -0.4653096   0.98206282  1.51858256  0.16750856  0.91979467\n",
      "  1.19058871  1.15511034 -0.1351436   0.0704861   0.63343359  0.58492236\n",
      " -0.9533181   0.60157547 -0.88561959 -0.1575891   1.47513966  0.36263956\n",
      "  0.96577173  0.08641516  0.63886396  0.96323756 -0.1141462   0.16135415\n",
      "  0.1381846   0.20805526 -1.64261202  1.10008268  0.92377693  0.86549105\n",
      " -1.17306674 -1.49128594 -1.68569289  1.13809521  1.39259816  0.12515174\n",
      " -1.2204919  -1.02174066 -0.62822045  0.16135415  0.93861992 -0.16881184\n",
      "  0.34562442 -0.60758507  0.14723521  1.08270552  1.1934849  -0.14057396\n",
      " -0.41752241  0.3047157   1.10949531  0.09872398  0.72864594 -0.18655103\n",
      " -0.29986457  0.66637779  0.62257287  0.50962135  1.38101339 -0.18582698\n",
      "  0.66022338  0.91762252 -0.17025994  0.04152417 -1.73710031 -0.16772577\n",
      "  0.64212217  0.44228486 -0.06816914  1.4487119   0.57152747 -0.14672837\n",
      "  1.25539102  0.18452369 -1.73637626 -0.10726775  0.91979467  0.94984267\n",
      "  0.05636715  0.17474904  0.93210349  1.12506234  0.40427233  0.97373626\n",
      "  0.86693915  0.48065942  1.20832789  1.38028934  0.62727918 -0.14129801\n",
      "  0.9067618  -1.76859641  0.10306827 -0.9743155   1.21991266 -0.35597831\n",
      " -0.72994922  0.3753104   0.43975069 -0.6875924   1.20941396 -0.96635097\n",
      " -0.22601166 -0.186189   -1.49997452  0.38001671 -0.71039992  0.63741586\n",
      "  0.20624514 -0.46096531 -0.17532828 -1.42793172  0.14795926  0.7431269\n",
      "  0.11827328  0.62872728 -0.44612232 -0.10545762  0.95165279 -1.55898445\n",
      " -1.71248267 -1.18139329  0.18850596 -0.99350278 -0.10980191 -1.4876657\n",
      " -0.61410151 -0.99205468 -0.95150798  1.35639575 -1.4967163  -6.9582121 ]\n",
      "\n",
      "age_w_outlier_standardized Mean: \n",
      "2.6645352591003756e-16\n",
      "\n",
      "age_w_outlier_standardized Standard Deviation : \n",
      "1.0\n"
     ]
    }
   ],
   "source": [
    "# --- Your code for 5e) --- \n",
    "print(\"\")\n",
    "print(\"Age data with outlier(150):\")\n",
    "print(age_w_outlier)\n",
    "print(\"\")\n",
    "# create age_w_outlier_minmaxed, keep the names the same\n",
    "age_w_outlier_minmaxed = minmax_scale(age_w_outlier)\n",
    "\n",
    "\n",
    "print(\"age_w_outlier_minmaxed: \")\n",
    "print(age_w_outlier_minmaxed)\n",
    "\n",
    "# create age_w_outlier_standardized\n",
    "\n",
    "age_w_outlier_standardized = scale(age_w_outlier)\n",
    "\n",
    "print(\"\")\n",
    "print(\"age_w_outlier_standardized: \")\n",
    "print(age_w_outlier_standardized)\n",
    "print(\"\")\n",
    "print(\"age_w_outlier_standardized Mean: \")\n",
    "print(age_w_outlier_standardized.mean())\n",
    "print(\"\")\n",
    "print(\"age_w_outlier_standardized Standard Deviation : \")\n",
    "print(age_w_outlier_standardized.std())"
   ]
  },
  {
   "cell_type": "markdown",
   "metadata": {},
   "source": [
    "***Below there is pre-written code for you to plot the different cases. Run it. The code should run if you have named your features appropriately. Run the code.***"
   ]
  },
  {
   "cell_type": "code",
   "execution_count": 23,
   "metadata": {
    "scrolled": false
   },
   "outputs": [
    {
     "data": {
      "image/png": "[encoded data removed]",
      "text/plain": [
       "<Figure size 1152x1296 with 1 Axes>"
      ]
     },
     "metadata": {},
     "output_type": "display_data"
    },
    {
     "data": {
      "image/png": "[encoded data removed]",
      "text/plain": [
       "<Figure size 1152x1296 with 1 Axes>"
      ]
     },
     "metadata": {},
     "output_type": "display_data"
    }
   ],
   "source": [
    "# Wrap in a dataframe that will have two features - the age feature without the outlier, and the age feature with it, min-maxed.\n",
    "minmaxed_datas = pd.DataFrame({\"minmaxed_age_no_outlier\" : data_min_maxed.age, \n",
    "              \"minmaxed_age_with_outlier\": age_w_outlier_minmaxed })\n",
    "\n",
    "# Wrap in a dataframe that will have two features - the age feature without the outlier, and the age feature with it, standardized. \n",
    "standardized_datas = pd.DataFrame({\"standardized_data_no_outlier\" : data_standardized.age, \n",
    "              \"standardized_data_w_outlier\": age_w_outlier_standardized })\n",
    "\n",
    "axes_minmaxed = minmaxed_datas[['minmaxed_age_no_outlier', 'minmaxed_age_with_outlier']].plot(kind='box', title='Minmax with and without outlier')\n",
    "axes_std = standardized_datas[['standardized_data_no_outlier', 'standardized_data_w_outlier']].plot(kind='box', title='Standardized with and without outlier')"
   ]
  },
  {
   "cell_type": "markdown",
   "metadata": {},
   "source": [
    "----------\n",
    "**5 f) Look at the output of the above cell and answer the following**: \n",
    "\n",
    "1. Can you notice a difference between the two cases (min-maxed and standardized)? \n",
    "2. Can you say something about the difference of the effect of min-maxing and standardization?\n"
   ]
  },
  {
   "cell_type": "markdown",
   "metadata": {},
   "source": [
    "<font color = red> ***--- Your answer for 5 f) here ---*** </font>\n",
    "\n",
    "1. Minmaxed is all above 0 but standardized is both above and under 0. \n",
    "\n",
    "2. Minmax changes a lot more than the standardized. Minmax without outlier looks like the box's upper edge is where the minmax with outlier box's lower edge starts. "
   ]
  },
  {
   "cell_type": "markdown",
   "metadata": {},
   "source": [
    "---------------\n",
    "## 6. Preprocessing categorical features\n",
    "\n"
   ]
  },
  {
   "cell_type": "markdown",
   "metadata": {},
   "source": [
    "We can roughly divide categorical variables/features to two types:  ***nominal categorical***  and  ***ordinal categorical*** variables/features. Some cases are clear in terms of which of the two a feature falls into. For example nationality is not an ordered feature, but which grade in school someone is has a natural ordering. **One-hot encoding** was presented in the lectures and will be used in the following exercises with different learning methods.\n",
    "\n",
    "\n",
    "-----\n",
    "***Nominal categorical features need to be encoded***, because not encoding them implies that they have an order. For example, consider a dataset where you would have rows by different countries, encoded randomly with numbers, for ex. Finland = 1, Norway = 2 and so on. For some analyses and methods this would imply that Norway is somehow \"greater\" in value than Finland. For some algorithms, the implication would also be, that some of the countries would be \"closer\" to each other. \n",
    "\n",
    "------\n",
    "***Ordinal categorical features do not necessarily need to be encoded***, but there are cases where it can be wise. One case is that the categories are not even distance from each other, which is the case with the 'cholesterol' feature with the levels 'normal', 'elevated' and 'at risk'. Its not clear that these are equal in distance from each other. When unsure, it may also be better to one-hot encode, and a lot of packages do it for you behind the scenes. Here we decide to one-hot encode.  \n",
    "\n",
    "---------------------\n"
   ]
  },
  {
   "cell_type": "markdown",
   "metadata": {},
   "source": [
    "**6 a)** One-hot-encode the cholesterol-feature and add the one-hot features to the data. Give the new features meaningful names. Print the first rows of the resulting dataframe. \n",
    "\n",
    "_tip: pandas has a function for this, google!_"
   ]
  },
  {
   "cell_type": "code",
   "execution_count": 24,
   "metadata": {},
   "outputs": [
    {
     "name": "stdout",
     "output_type": "stream",
     "text": [
      "All data:\n"
     ]
    },
    {
     "data": {
      "text/html": [
       "<div>\n",
       "<style scoped>\n",
       "    .dataframe tbody tr th:only-of-type {\n",
       "        vertical-align: middle;\n",
       "    }\n",
       "\n",
       "    .dataframe tbody tr th {\n",
       "        vertical-align: top;\n",
       "    }\n",
       "\n",
       "    .dataframe thead th {\n",
       "        text-align: right;\n",
       "    }\n",
       "</style>\n",
       "<table border=\"1\" class=\"dataframe\">\n",
       "  <thead>\n",
       "    <tr style=\"text-align: right;\">\n",
       "      <th></th>\n",
       "      <th>age</th>\n",
       "      <th>sex</th>\n",
       "      <th>height</th>\n",
       "      <th>weight</th>\n",
       "      <th>ap_hi</th>\n",
       "      <th>ap_lo</th>\n",
       "      <th>smoke</th>\n",
       "      <th>active</th>\n",
       "      <th>cardio</th>\n",
       "      <th>cholesterol_at risk</th>\n",
       "      <th>cholesterol_elevated</th>\n",
       "      <th>cholesterol_normal</th>\n",
       "    </tr>\n",
       "  </thead>\n",
       "  <tbody>\n",
       "    <tr>\n",
       "      <th>0</th>\n",
       "      <td>19797</td>\n",
       "      <td>False</td>\n",
       "      <td>161</td>\n",
       "      <td>55</td>\n",
       "      <td>102</td>\n",
       "      <td>68</td>\n",
       "      <td>False</td>\n",
       "      <td>True</td>\n",
       "      <td>False</td>\n",
       "      <td>0</td>\n",
       "      <td>1</td>\n",
       "      <td>0</td>\n",
       "    </tr>\n",
       "    <tr>\n",
       "      <th>1</th>\n",
       "      <td>22571</td>\n",
       "      <td>True</td>\n",
       "      <td>178</td>\n",
       "      <td>68</td>\n",
       "      <td>120</td>\n",
       "      <td>70</td>\n",
       "      <td>False</td>\n",
       "      <td>False</td>\n",
       "      <td>False</td>\n",
       "      <td>0</td>\n",
       "      <td>0</td>\n",
       "      <td>1</td>\n",
       "    </tr>\n",
       "    <tr>\n",
       "      <th>2</th>\n",
       "      <td>16621</td>\n",
       "      <td>True</td>\n",
       "      <td>169</td>\n",
       "      <td>69</td>\n",
       "      <td>120</td>\n",
       "      <td>80</td>\n",
       "      <td>False</td>\n",
       "      <td>True</td>\n",
       "      <td>False</td>\n",
       "      <td>0</td>\n",
       "      <td>0</td>\n",
       "      <td>1</td>\n",
       "    </tr>\n",
       "    <tr>\n",
       "      <th>3</th>\n",
       "      <td>16688</td>\n",
       "      <td>False</td>\n",
       "      <td>156</td>\n",
       "      <td>77</td>\n",
       "      <td>120</td>\n",
       "      <td>80</td>\n",
       "      <td>False</td>\n",
       "      <td>True</td>\n",
       "      <td>False</td>\n",
       "      <td>0</td>\n",
       "      <td>0</td>\n",
       "      <td>1</td>\n",
       "    </tr>\n",
       "    <tr>\n",
       "      <th>4</th>\n",
       "      <td>19498</td>\n",
       "      <td>True</td>\n",
       "      <td>170</td>\n",
       "      <td>98</td>\n",
       "      <td>130</td>\n",
       "      <td>80</td>\n",
       "      <td>True</td>\n",
       "      <td>True</td>\n",
       "      <td>True</td>\n",
       "      <td>0</td>\n",
       "      <td>1</td>\n",
       "      <td>0</td>\n",
       "    </tr>\n",
       "    <tr>\n",
       "      <th>...</th>\n",
       "      <td>...</td>\n",
       "      <td>...</td>\n",
       "      <td>...</td>\n",
       "      <td>...</td>\n",
       "      <td>...</td>\n",
       "      <td>...</td>\n",
       "      <td>...</td>\n",
       "      <td>...</td>\n",
       "      <td>...</td>\n",
       "      <td>...</td>\n",
       "      <td>...</td>\n",
       "      <td>...</td>\n",
       "    </tr>\n",
       "    <tr>\n",
       "      <th>205</th>\n",
       "      <td>16630</td>\n",
       "      <td>False</td>\n",
       "      <td>158</td>\n",
       "      <td>55</td>\n",
       "      <td>120</td>\n",
       "      <td>80</td>\n",
       "      <td>True</td>\n",
       "      <td>True</td>\n",
       "      <td>False</td>\n",
       "      <td>0</td>\n",
       "      <td>0</td>\n",
       "      <td>1</td>\n",
       "    </tr>\n",
       "    <tr>\n",
       "      <th>206</th>\n",
       "      <td>16742</td>\n",
       "      <td>False</td>\n",
       "      <td>170</td>\n",
       "      <td>68</td>\n",
       "      <td>110</td>\n",
       "      <td>70</td>\n",
       "      <td>False</td>\n",
       "      <td>True</td>\n",
       "      <td>False</td>\n",
       "      <td>0</td>\n",
       "      <td>0</td>\n",
       "      <td>1</td>\n",
       "    </tr>\n",
       "    <tr>\n",
       "      <th>207</th>\n",
       "      <td>23117</td>\n",
       "      <td>False</td>\n",
       "      <td>157</td>\n",
       "      <td>78</td>\n",
       "      <td>100</td>\n",
       "      <td>60</td>\n",
       "      <td>False</td>\n",
       "      <td>True</td>\n",
       "      <td>True</td>\n",
       "      <td>0</td>\n",
       "      <td>0</td>\n",
       "      <td>1</td>\n",
       "    </tr>\n",
       "    <tr>\n",
       "      <th>208</th>\n",
       "      <td>15236</td>\n",
       "      <td>False</td>\n",
       "      <td>153</td>\n",
       "      <td>55</td>\n",
       "      <td>120</td>\n",
       "      <td>80</td>\n",
       "      <td>False</td>\n",
       "      <td>True</td>\n",
       "      <td>False</td>\n",
       "      <td>0</td>\n",
       "      <td>0</td>\n",
       "      <td>1</td>\n",
       "    </tr>\n",
       "    <tr>\n",
       "      <th>209</th>\n",
       "      <td>18043</td>\n",
       "      <td>True</td>\n",
       "      <td>172</td>\n",
       "      <td>78</td>\n",
       "      <td>140</td>\n",
       "      <td>90</td>\n",
       "      <td>False</td>\n",
       "      <td>False</td>\n",
       "      <td>True</td>\n",
       "      <td>0</td>\n",
       "      <td>0</td>\n",
       "      <td>1</td>\n",
       "    </tr>\n",
       "  </tbody>\n",
       "</table>\n",
       "<p>210 rows × 12 columns</p>\n",
       "</div>"
      ],
      "text/plain": [
       "       age    sex  height  weight  ap_hi  ap_lo  smoke  active  cardio  \\\n",
       "0    19797  False     161      55    102     68  False    True   False   \n",
       "1    22571   True     178      68    120     70  False   False   False   \n",
       "2    16621   True     169      69    120     80  False    True   False   \n",
       "3    16688  False     156      77    120     80  False    True   False   \n",
       "4    19498   True     170      98    130     80   True    True    True   \n",
       "..     ...    ...     ...     ...    ...    ...    ...     ...     ...   \n",
       "205  16630  False     158      55    120     80   True    True   False   \n",
       "206  16742  False     170      68    110     70  False    True   False   \n",
       "207  23117  False     157      78    100     60  False    True    True   \n",
       "208  15236  False     153      55    120     80  False    True   False   \n",
       "209  18043   True     172      78    140     90  False   False    True   \n",
       "\n",
       "     cholesterol_at risk  cholesterol_elevated  cholesterol_normal  \n",
       "0                      0                     1                   0  \n",
       "1                      0                     0                   1  \n",
       "2                      0                     0                   1  \n",
       "3                      0                     0                   1  \n",
       "4                      0                     1                   0  \n",
       "..                   ...                   ...                 ...  \n",
       "205                    0                     0                   1  \n",
       "206                    0                     0                   1  \n",
       "207                    0                     0                   1  \n",
       "208                    0                     0                   1  \n",
       "209                    0                     0                   1  \n",
       "\n",
       "[210 rows x 12 columns]"
      ]
     },
     "metadata": {},
     "output_type": "display_data"
    },
    {
     "name": "stdout",
     "output_type": "stream",
     "text": [
      "First five rows of the data:\n"
     ]
    },
    {
     "data": {
      "text/html": [
       "<div>\n",
       "<style scoped>\n",
       "    .dataframe tbody tr th:only-of-type {\n",
       "        vertical-align: middle;\n",
       "    }\n",
       "\n",
       "    .dataframe tbody tr th {\n",
       "        vertical-align: top;\n",
       "    }\n",
       "\n",
       "    .dataframe thead th {\n",
       "        text-align: right;\n",
       "    }\n",
       "</style>\n",
       "<table border=\"1\" class=\"dataframe\">\n",
       "  <thead>\n",
       "    <tr style=\"text-align: right;\">\n",
       "      <th></th>\n",
       "      <th>age</th>\n",
       "      <th>sex</th>\n",
       "      <th>height</th>\n",
       "      <th>weight</th>\n",
       "      <th>ap_hi</th>\n",
       "      <th>ap_lo</th>\n",
       "      <th>smoke</th>\n",
       "      <th>active</th>\n",
       "      <th>cardio</th>\n",
       "      <th>cholesterol_at risk</th>\n",
       "      <th>cholesterol_elevated</th>\n",
       "      <th>cholesterol_normal</th>\n",
       "    </tr>\n",
       "  </thead>\n",
       "  <tbody>\n",
       "    <tr>\n",
       "      <th>0</th>\n",
       "      <td>19797</td>\n",
       "      <td>False</td>\n",
       "      <td>161</td>\n",
       "      <td>55</td>\n",
       "      <td>102</td>\n",
       "      <td>68</td>\n",
       "      <td>False</td>\n",
       "      <td>True</td>\n",
       "      <td>False</td>\n",
       "      <td>0</td>\n",
       "      <td>1</td>\n",
       "      <td>0</td>\n",
       "    </tr>\n",
       "    <tr>\n",
       "      <th>1</th>\n",
       "      <td>22571</td>\n",
       "      <td>True</td>\n",
       "      <td>178</td>\n",
       "      <td>68</td>\n",
       "      <td>120</td>\n",
       "      <td>70</td>\n",
       "      <td>False</td>\n",
       "      <td>False</td>\n",
       "      <td>False</td>\n",
       "      <td>0</td>\n",
       "      <td>0</td>\n",
       "      <td>1</td>\n",
       "    </tr>\n",
       "    <tr>\n",
       "      <th>2</th>\n",
       "      <td>16621</td>\n",
       "      <td>True</td>\n",
       "      <td>169</td>\n",
       "      <td>69</td>\n",
       "      <td>120</td>\n",
       "      <td>80</td>\n",
       "      <td>False</td>\n",
       "      <td>True</td>\n",
       "      <td>False</td>\n",
       "      <td>0</td>\n",
       "      <td>0</td>\n",
       "      <td>1</td>\n",
       "    </tr>\n",
       "    <tr>\n",
       "      <th>3</th>\n",
       "      <td>16688</td>\n",
       "      <td>False</td>\n",
       "      <td>156</td>\n",
       "      <td>77</td>\n",
       "      <td>120</td>\n",
       "      <td>80</td>\n",
       "      <td>False</td>\n",
       "      <td>True</td>\n",
       "      <td>False</td>\n",
       "      <td>0</td>\n",
       "      <td>0</td>\n",
       "      <td>1</td>\n",
       "    </tr>\n",
       "    <tr>\n",
       "      <th>4</th>\n",
       "      <td>19498</td>\n",
       "      <td>True</td>\n",
       "      <td>170</td>\n",
       "      <td>98</td>\n",
       "      <td>130</td>\n",
       "      <td>80</td>\n",
       "      <td>True</td>\n",
       "      <td>True</td>\n",
       "      <td>True</td>\n",
       "      <td>0</td>\n",
       "      <td>1</td>\n",
       "      <td>0</td>\n",
       "    </tr>\n",
       "  </tbody>\n",
       "</table>\n",
       "</div>"
      ],
      "text/plain": [
       "     age    sex  height  weight  ap_hi  ap_lo  smoke  active  cardio  \\\n",
       "0  19797  False     161      55    102     68  False    True   False   \n",
       "1  22571   True     178      68    120     70  False   False   False   \n",
       "2  16621   True     169      69    120     80  False    True   False   \n",
       "3  16688  False     156      77    120     80  False    True   False   \n",
       "4  19498   True     170      98    130     80   True    True    True   \n",
       "\n",
       "   cholesterol_at risk  cholesterol_elevated  cholesterol_normal  \n",
       "0                    0                     1                   0  \n",
       "1                    0                     0                   1  \n",
       "2                    0                     0                   1  \n",
       "3                    0                     0                   1  \n",
       "4                    0                     1                   0  "
      ]
     },
     "execution_count": 24,
     "metadata": {},
     "output_type": "execute_result"
    }
   ],
   "source": [
    "# --- Your code for 6 a) here ---\n",
    "\n",
    "#From stackabuse.com I found this function called .get_dummies()\n",
    "\n",
    "o_h_cho = pd.get_dummies(data = _data, columns = ['cholesterol']) #using _data to get the fixed cholesterol data\n",
    "print(\"All data:\")\n",
    "display(o_h_cho) #checking all data to be correct\n",
    "\n",
    "print(\"First five rows of the data:\")\n",
    "o_h_cho.head(5) #Printing out the first five rows of the now new data"
   ]
  },
  {
   "cell_type": "markdown",
   "metadata": {},
   "source": [
    "-------------------"
   ]
  },
  {
   "cell_type": "markdown",
   "metadata": {},
   "source": [
    "<div class=\"alert alert-block alert-warning\">\n",
    "    <h1><center> BONUS EXERCISES </center></h1>"
   ]
  },
  {
   "cell_type": "markdown",
   "metadata": {},
   "source": [
    "- Below are the bonus exercises. You can stop here, and get the \"pass\" grade. \n",
    "- By doing the bonus exercises below, you can get a \"pass with honors\", which means you will get one point bonus for the exam. \n",
    "\n",
    "The following exercises are more challenging and not as straight-forward and may require some research of your own. However, perfect written answers are not required, but answers that show that you have tried to understand the problems and explain them with your own words. "
   ]
  },
  {
   "cell_type": "markdown",
   "metadata": {
    "id": "bea2hNxp3BPv"
   },
   "source": [
    "____________\n",
    "##  <font color = dollargreen > 7. BONUS: Dimensionality reduction and plotting with PCA </font>\n",
    "In the lectures, PCA was introduced as a dimensionality reduction technique. Here we will use it to reduce the dimensionality of the numeric features of this dataset and use the resulting compressed view of the dataset to plot it. This means you have to, run PCA  and then project the data you used to fit the PCA to the new space, where the principal components are the axes.\n",
    "____________"
   ]
  },
  {
   "cell_type": "markdown",
   "metadata": {
    "id": "4mco9ZWp3BPv"
   },
   "source": [
    "**7 a)** Explain _in your own words_ what principal component analysis is.\n",
    "\n",
    "--------"
   ]
  },
  {
   "cell_type": "markdown",
   "metadata": {},
   "source": [
    "<font color = red> ***--- Answer 7 a) here ---*** </font>"
   ]
  },
  {
   "cell_type": "markdown",
   "metadata": {
    "id": "4mco9ZWp3BPv"
   },
   "source": [
    "-------------\n",
    "**7 b)** Do PCA with two components with and without z-score standardization **for the numeric features in the data**. "
   ]
  },
  {
   "cell_type": "code",
   "execution_count": 25,
   "metadata": {},
   "outputs": [],
   "source": [
    "# --- Your for 7b) code here --- #"
   ]
  },
  {
   "cell_type": "markdown",
   "metadata": {},
   "source": [
    "-------------\n",
    "\n",
    "\n",
    "**7 c) Plot the data, projected on to the PCA space as a scatterplot, the x-axis being one component and y the other. **Add the total explained variance to your plot as an annotation**. See the documentation of the pca method on how to get the explained variance.\n",
    "\n",
    "- _Tip: It may be easier to try the seaborn scatterplot for this one. For help see documentation on how to do annotation see tutorial. The total explained variance is the sum of both the components explained variance_.\n",
    "\n",
    "- _Tip2_: Depending on how you approach annotating the plot, you might have to cast the feature name to be a string. One nice way to format values in python is the f - formatting string, which allows you to insert expressions inside strings (see example below):\n",
    "\n",
    "\n",
    "\n",
    "------\n",
    "name = Valtteri<br>\n",
    "print(f\"hello_{name}\")\n",
    "\n",
    "---------\n",
    "You can also set the number of wanted decimals for floats<br>\n",
    "For example f'{float_variable:.2f}' would result in 2 decimals making it to the string created\n",
    "\n",
    "----------"
   ]
  },
  {
   "cell_type": "code",
   "execution_count": 26,
   "metadata": {},
   "outputs": [],
   "source": [
    "# --- Your code for 7c) --- you can make more cells if you like ---"
   ]
  },
  {
   "cell_type": "markdown",
   "metadata": {},
   "source": [
    " \n",
    "\n",
    "**7 d) Gather information for the next part of the exercise and print out the following things:**\n",
    "- First, the standard deviation of the original data features (not standardized, and with the numeric features only).\n",
    "- Second, the standard deviation of the standardized numeric features "
   ]
  },
  {
   "cell_type": "code",
   "execution_count": 27,
   "metadata": {},
   "outputs": [
    {
     "name": "stdout",
     "output_type": "stream",
     "text": [
      "+++++++++ Standard deviations of numeric features, original data +++++++++\n",
      "+++++++++ Standard deviations of numeric features, standardized data +++++++++\n"
     ]
    }
   ],
   "source": [
    "# --- Your code for 7d) here --- #\n",
    "\n",
    "print( \"+++\"*3, \"Standard deviations of numeric features, original data\", \"+++\" * 3)  \n",
    "#your print here\n",
    "\n",
    "print( \"+++\"*3, \"Standard deviations of numeric features, standardized data\", \"+++\" * 3)  \n",
    "#your print here"
   ]
  },
  {
   "cell_type": "markdown",
   "metadata": {
    "id": "4mco9ZWp3BPv"
   },
   "source": [
    "----------\n",
    "**7 e) Look at the output above and the explained variance information you added as annotations to the plots. Try to think about the following questions and give a short answer of what you think has happened:** \n",
    "\n",
    "1. Where do you think the difference between the amounts of explained variance might come from? \n",
    "\n",
    "2. Can you say something about why it is important to scale the features for PCA by looking at the evidence youve gathered?\n",
    "\n",
    "__Answer in your own words, here it is not important to get the perfect answer but to try to think and figure out what has happened__\n",
    "\n",
    "------------"
   ]
  },
  {
   "cell_type": "markdown",
   "metadata": {},
   "source": [
    "<font color = red> ***--- Answer 7e) here ---***  </font>\n"
   ]
  },
  {
   "cell_type": "markdown",
   "metadata": {},
   "source": [
    "------------------\n",
    "\n",
    "## <font color = dollargreen > 8. Bonus: t-SNE and high dimensional data </font> "
   ]
  },
  {
   "cell_type": "markdown",
   "metadata": {},
   "source": [
    "Another method that can be used to plot high-dimensional data introduced in the lectures was t-distributed Stochastic Neighbor Embedding (t-SNE)."
   ]
  },
  {
   "cell_type": "markdown",
   "metadata": {},
   "source": [
    "***8 a)*** Shortly explain t-SNE **in your own words**. "
   ]
  },
  {
   "cell_type": "markdown",
   "metadata": {},
   "source": [
    "<font color = red> ***--- Answer 8 a) here ---***  </font>"
   ]
  },
  {
   "cell_type": "markdown",
   "metadata": {},
   "source": [
    "***8 b)*** Run t-SNE for both standardized and non standardized data (as you did with PCA)."
   ]
  },
  {
   "cell_type": "code",
   "execution_count": 28,
   "metadata": {},
   "outputs": [],
   "source": [
    "# --- Your code for 8b) here --- #"
   ]
  },
  {
   "cell_type": "markdown",
   "metadata": {},
   "source": [
    "***8 c)*** Plot t-sne, similarly to PCA making the color of the points correspond to the levels of the cardio feature, but having only numerical features as a basis of the T-SNE.  "
   ]
  },
  {
   "cell_type": "code",
   "execution_count": 29,
   "metadata": {},
   "outputs": [],
   "source": [
    "# --- Code for 8 c) --- #"
   ]
  },
  {
   "cell_type": "markdown",
   "metadata": {},
   "source": [
    "***8 d)*** \n",
    "\n",
    "- What do you think might have happened between the two runs of t-SNE on unstandardized and standardized data? Why is it important to standardize before using the algorithm?\n",
    "\n",
    "_Here the aim is to think about this and learn, not come up with a perfect explanation. Googling is encouraged. Think about whether t-sne is a distance based algorithm or not?_ "
   ]
  },
  {
   "cell_type": "markdown",
   "metadata": {},
   "source": [
    "<font color = red> --- ***Answer 8d) here*** --- </font>"
   ]
  }
 ],
 "metadata": {
  "colab": {
   "name": "DADK_exercise_2_2021.ipynb",
   "provenance": []
  },
  "kernelspec": {
   "display_name": "Python 3 (ipykernel)",
   "language": "python",
   "name": "python3"
  },
  "language_info": {
   "codemirror_mode": {
    "name": "ipython",
    "version": 3
   },
   "file_extension": ".py",
   "mimetype": "text/x-python",
   "name": "python",
   "nbconvert_exporter": "python",
   "pygments_lexer": "ipython3",
   "version": "3.9.12"
  },
  "toc": {
   "base_numbering": 1,
   "nav_menu": {
    "height": "180px",
    "width": "160px"
   },
   "number_sections": false,
   "sideBar": true,
   "skip_h1_title": true,
   "title_cell": "Table of Contents",
   "title_sidebar": "Contents",
   "toc_cell": false,
   "toc_position": {},
   "toc_section_display": true,
   "toc_window_display": true
  }
 },
 "nbformat": 4,
 "nbformat_minor": 1
}
